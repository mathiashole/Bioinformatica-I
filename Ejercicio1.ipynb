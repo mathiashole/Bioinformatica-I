{
  "nbformat": 4,
  "nbformat_minor": 0,
  "metadata": {
    "colab": {
      "provenance": [],
      "include_colab_link": true
    },
    "kernelspec": {
      "name": "python3",
      "display_name": "Python 3"
    },
    "language_info": {
      "name": "python"
    }
  },
  "cells": [
    {
      "cell_type": "markdown",
      "metadata": {
        "id": "view-in-github",
        "colab_type": "text"
      },
      "source": [
        "<a href=\"https://colab.research.google.com/github/mathiashole/Bioinformatica-I/blob/main/Ejercicio1.ipynb\" target=\"_parent\"><img src=\"https://colab.research.google.com/assets/colab-badge.svg\" alt=\"Open In Colab\"/></a>"
      ]
    },
    {
      "cell_type": "code",
      "source": [
        "# Define la función motivo_correcto y le pido como requisitos que cuando la persona ingrese el motivo que quiere buscar,\n",
        "# lo escriba en mayúscula o minúscula, el código lo transforma a minúscula.\n",
        "# Además, solo acepta letras, \"?\" y \"-\" (en caso de no cumplir eso, luego se da una alerta).\n",
        "def motivo_correcto(motivo):\n",
        "    for char in motivo:\n",
        "        if not (char.isalpha() or char in {'?', '-'}):\n",
        "            return False\n",
        "    return True\n",
        "\n",
        "# Define exact matches, que contempla la secuencia y el motivo, y devuelve el rango y los nt que comprenden las ocurrencias que encontró la función.\n",
        "# La función va comparando de a un índice y los próximos 5 para encontrar el motivo que se especificó.\n",
        "# Te devuelve el rango (entre qué nt y nt de esa secuencia está cada ocurrencia).\n",
        "def exact_matches(secuencia, motivo):\n",
        "    rango = []\n",
        "    largo_mot = len(motivo)\n",
        "    for i in range(len(secuencia) - largo_mot + 1):\n",
        "        if secuencia[i:i + largo_mot] == motivo:\n",
        "            rango.append(f\"{secuencia[i:i + largo_mot]} : {i+1}-{i + largo_mot}\")\n",
        "    return rango\n",
        "\n",
        "# Define inexact matches, que funciona igual que la anterior, pero en este caso permite un número de hasta 6 mismatches.\n",
        "# Para eso se usa el zip dentro del sum, que a grandes rasgos permite comparar desde el primer índice y moviéndose 5 a la derecha,\n",
        "# cuántos caracteres distintos tiene esa mini-secuencia respecto al motivo.\n",
        "def inexact_matches(secuencia, motivo, k):\n",
        "    rango = []\n",
        "    largo_mot = len(motivo)\n",
        "    for i in range(len(secuencia) - largo_mot + 1):\n",
        "        ocurrencia = secuencia[i:i + largo_mot]\n",
        "        mismatches = sum(1 for a, b in zip(ocurrencia, motivo) if a != b)\n",
        "        if mismatches <= k:\n",
        "            rango.append(f\"{ocurrencia} : {i+1}-{i + largo_mot}\")\n",
        "    return rango\n",
        "\n",
        "# Parto de la entrada de la secuencia por parte del usuario, la función la vuelve a minúsculas y le ignora los espacios en caso de haberlos. La secuencia\n",
        "# no puede ser menor a 6 caracteres.\n",
        "def main():\n",
        "    while True:\n",
        "        while True:\n",
        "            secuencia = input(\"Introduce aquí la secuencia de ADN que deseas analizar: \").replace(\" \", \"\").lower()\n",
        "            if len(secuencia) < 6:\n",
        "                print(\"La secuencia debe tener al menos 6 caracteres. Vuelve a intentarlo.\")\n",
        "            else:\n",
        "                break\n",
        "\n",
        "        # Pide el motivo al usuario. En caso de que tenga más o menos de 6 caracteres se da una alerta. En caso de que se trate de un carácter extraño, también.\n",
        "        while True:\n",
        "            motivo = input(\"Introduce el motivo (debe tener un largo de 6 nucleótidos): \").replace(\" \", \"\").lower()\n",
        "            if len(motivo) != 6:\n",
        "                print(\"El motivo debe tener exactamente 6 caracteres. Vuelve a intentarlo.\")\n",
        "            elif not motivo_correcto(motivo):\n",
        "                print(\"¡Atención! Solo se permiten letras, '-' o '?'.\")\n",
        "            else:\n",
        "                break\n",
        "\n",
        "        # Permite seleccionar la modalidad (exacto o inexacto) para los mismatches.\n",
        "        # Si es exacto, llama a exact_matches definida arriba; si es inexacto, llama a inexact_matches y pide ingresar el número de permitidos (k).\n",
        "        # En caso de que se ponga un número mayor a 6, avisa que no puede superar el largo del motivo.\n",
        "        modalidad = input('''Introduce la modalidad deseada:\n",
        "                          (a) Exacto\n",
        "                          (b) Inexacto\n",
        "                          ''').lower()\n",
        "\n",
        "        if modalidad == \"a\":\n",
        "            rango = exact_matches(secuencia, motivo)\n",
        "        elif modalidad == \"b\":\n",
        "            while True:\n",
        "                k = int(input(\"Introduce el número de mismatches permitidos (entre 1 y 6): \"))\n",
        "                if k > len(motivo):\n",
        "                    print(\"¡Atención! El número de mismatches no debe superar el largo del motivo.\")\n",
        "                else:\n",
        "                    break\n",
        "            rango = inexact_matches(secuencia, motivo, k)\n",
        "        else:\n",
        "            print(\"Error al elegir el modo. Vuelve a intentarlo.\")\n",
        "            continue\n",
        "\n",
        "        if rango:\n",
        "            print(\"Lista de las ocurrencias encontradas y sus posiciones en la secuencia:\")\n",
        "            for nucleotidos in rango:\n",
        "                print(nucleotidos)\n",
        "        else:\n",
        "            print(\"No se encontraron coincidencias en esta secuencia.\")\n",
        "\n",
        "        # Preguntar si el usuario desea realizar otro análisis\n",
        "        continuar = input('''¿Desea analizar otra secuencia?:\n",
        "                          (s) Reiniciar programa\n",
        "                          (n) Finalizar programa''').strip().lower()\n",
        "        if continuar != \"s\":\n",
        "            print(\"Programa finalizado.\")\n",
        "            break\n",
        "\n",
        "if __name__ == \"__main__\":\n",
        "    main()\n"
      ],
      "metadata": {
        "id": "X7mK38gska8n"
      },
      "execution_count": null,
      "outputs": []
    },
    {
      "cell_type": "code",
      "source": [],
      "metadata": {
        "id": "9PhUaZQuFrYv"
      },
      "execution_count": null,
      "outputs": []
    }
  ]
}